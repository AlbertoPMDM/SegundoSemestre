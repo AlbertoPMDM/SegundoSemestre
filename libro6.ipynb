{
 "cells": [
  {
   "cell_type": "markdown",
   "metadata": {},
   "source": [
    "# Metodos numericos\n",
    "\n",
    "es el procedimiento mediante el cual se obtiene, de manera aproximada, la solucion de problemas relizando calculos aritmeticos y logicos\n",
    "\n",
    "la eficiencia en los calculos de un metodo numerico depende en parte de la implementacion del algoritmo y de las caracteristicas especiales del metodo.\n",
    "\n",
    "Los metodos numericos, al ser aproximados, siempre se trabajan con un error, generalmente los mas utilizados son el error absoluto, y el error relativo. El error absoluto se puede calcular cuando se conoce el valor real, el error relativo se va calculando con cada una de las iteraciones\n",
    "\n",
    "$$\n",
    "\\begin{equation}\n",
    "E_{r} = \\frac{x_{0}-x_{1}}{x_{0}}\n",
    "\\end{equation}\n",
    "$$\n",
    "\n"
   ]
  }
 ],
 "metadata": {
  "kernelspec": {
   "display_name": "Python 3 (ipykernel)",
   "language": "python",
   "name": "python3"
  },
  "language_info": {
   "codemirror_mode": {
    "name": "ipython",
    "version": 3
   },
   "file_extension": ".py",
   "mimetype": "text/x-python",
   "name": "python",
   "nbconvert_exporter": "python",
   "pygments_lexer": "ipython3",
   "version": "3.8.10"
  }
 },
 "nbformat": 4,
 "nbformat_minor": 2
}
