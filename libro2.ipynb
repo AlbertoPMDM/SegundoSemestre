{
 "cells": [
  {
   "cell_type": "markdown",
   "id": "1951e9bb",
   "metadata": {},
   "source": [
    "Para cada una de las siguientes expresiones, indique el valor que se imprime al evaluar la expresion. \n",
    "Si la evaluacion conduce a un error, indiquelo\n",
    "\n",
    "Aunque se puede escribir estas expresiones en esta notebook, intenta responder directamente ya que esto te ayuda a reforzar tu comprension de las expresiones basicas de python"
   ]
  },
  {
   "cell_type": "markdown",
   "id": "147caf23",
   "metadata": {},
   "source": [
    "    var = 'Panda'\n",
    "    if var == 'panda':\n",
    "        print('Cute!')\n",
    "    elif var == \"Panda\":\n",
    "    print(\"Regio!\")\n",
    "    else:\n",
    "        print('que feo ...')\n",
    "\n",
    "Conduce a un error porque en la linea 5 no hay nada dentro del bloque del elif"
   ]
  },
  {
   "cell_type": "code",
   "execution_count": 1,
   "id": "671897b2",
   "metadata": {},
   "outputs": [
    {
     "ename": "IndentationError",
     "evalue": "expected an indented block (4124833567.py, line 5)",
     "output_type": "error",
     "traceback": [
      "\u001b[0;36m  Input \u001b[0;32mIn [1]\u001b[0;36m\u001b[0m\n\u001b[0;31m    print(\"Regio!\")\u001b[0m\n\u001b[0m    ^\u001b[0m\n\u001b[0;31mIndentationError\u001b[0m\u001b[0;31m:\u001b[0m expected an indented block\n"
     ]
    }
   ],
   "source": [
    "var = 'Panda'\n",
    "\n",
    "if var == 'panda':\n",
    "    print('Cute!')\n",
    "elif var == \"Panda\":\n",
    "print(\"Regio!\")\n",
    "else:\n",
    "    print('que feo ...')"
   ]
  },
  {
   "cell_type": "markdown",
   "id": "acb9468a",
   "metadata": {},
   "source": [
    "    temp = '5'\n",
    "    if temp > 30:\n",
    "        print('Calor')\n",
    "    elif temp > 24:\n",
    "    print('Agradable')\n",
    "    else:\n",
    "        print('Frio, brrrrr')\n",
    "\n",
    "va a dar un error de indentacion"
   ]
  },
  {
   "cell_type": "code",
   "execution_count": 1,
   "id": "f074f241",
   "metadata": {},
   "outputs": [
    {
     "ename": "IndentationError",
     "evalue": "expected an indented block (1518677062.py, line 5)",
     "output_type": "error",
     "traceback": [
      "\u001b[0;36m  Input \u001b[0;32mIn [1]\u001b[0;36m\u001b[0m\n\u001b[0;31m    print('Agradable')\u001b[0m\n\u001b[0m    ^\u001b[0m\n\u001b[0;31mIndentationError\u001b[0m\u001b[0;31m:\u001b[0m expected an indented block\n"
     ]
    }
   ],
   "source": [
    "temp = '5'\n",
    "if temp > 30:\n",
    "    print('Calor')\n",
    "elif temp > 24:\n",
    "print('Agradable')\n",
    "else:\n",
    "    print('Frio, brrrrr')"
   ]
  },
  {
   "cell_type": "markdown",
   "id": "5794b6e1",
   "metadata": {},
   "source": [
    "    temp = 42\n",
    "    if temp > 30:\n",
    "        print('Calor')\n",
    "    elif temp > 40:\n",
    "        print('muy caliente!')\n",
    "    elif temp > 24:\n",
    "        print('Confortable')\n",
    "    else:\n",
    "        print('frio')\n",
    "\n",
    "va a dar \n",
    "`Calor`"
   ]
  },
  {
   "cell_type": "code",
   "execution_count": 2,
   "id": "bde95f8a",
   "metadata": {},
   "outputs": [
    {
     "name": "stdout",
     "output_type": "stream",
     "text": [
      "Calor\n"
     ]
    }
   ],
   "source": [
    "temp = 42\n",
    "if temp > 30:\n",
    "    print('Calor')\n",
    "elif temp > 40:\n",
    "    print('muy caliente!')\n",
    "elif temp > 24:\n",
    "    print('Confortable')\n",
    "else:\n",
    "    print('frio')"
   ]
  },
  {
   "cell_type": "markdown",
   "id": "1e6d6a22",
   "metadata": {},
   "source": [
    "    temp = 50\n",
    "    if temp > 85:\n",
    "        print('Hot')\n",
    "    elif temp > 100:\n",
    "    print('REALLY HOT!')\n",
    "    elif temp > 60:\n",
    "        print('Comfortable')\n",
    "    else:\n",
    "        print('Cold')\n",
    "\n",
    "Va a dar un error de indentacion"
   ]
  },
  {
   "cell_type": "code",
   "execution_count": 3,
   "id": "75a1b844",
   "metadata": {},
   "outputs": [
    {
     "ename": "IndentationError",
     "evalue": "expected an indented block (3389286953.py, line 5)",
     "output_type": "error",
     "traceback": [
      "\u001b[0;36m  Input \u001b[0;32mIn [3]\u001b[0;36m\u001b[0m\n\u001b[0;31m    print('REALLY HOT!')\u001b[0m\n\u001b[0m    ^\u001b[0m\n\u001b[0;31mIndentationError\u001b[0m\u001b[0;31m:\u001b[0m expected an indented block\n"
     ]
    }
   ],
   "source": [
    "temp = 50\n",
    "if temp > 85:\n",
    "    print('Hot')\n",
    "elif temp > 100:\n",
    "print('REALLY HOT!')\n",
    "elif temp > 60:\n",
    "    print('Comfortable')\n",
    "else:\n",
    "    print('Cold')"
   ]
  },
  {
   "cell_type": "markdown",
   "id": "e1549358",
   "metadata": {},
   "source": [
    "# Ejercicio:\n",
    "\n",
    "Escribe un código en python que imprima la cadena `'hola FCFM'` si el valor de una variable entera es estrictamente mayor que 2."
   ]
  },
  {
   "cell_type": "code",
   "execution_count": 9,
   "id": "b2533be1",
   "metadata": {},
   "outputs": [
    {
     "name": "stdout",
     "output_type": "stream",
     "text": [
      "hola FCFM\n"
     ]
    }
   ],
   "source": [
    "class Numero():\n",
    "\n",
    "    def __init__(self, val:float) -> None:\n",
    "        self.val = val\n",
    "\n",
    "    def getVal(self)->float:\n",
    "        return self.val\n",
    "\n",
    "    def esMayorQueDos(val:float) -> bool:\n",
    "        return val>2\n",
    "\n",
    "    def obtenerNumero()->float:\n",
    "        return float(input('ingresa un numero'))\n",
    "\n",
    "    def decidirSiImprimir(cond:bool)-> None:\n",
    "        if cond:\n",
    "            print('hola FCFM')\n",
    "\n",
    "Numero.decidirSiImprimir(Numero.esMayorQueDos(Numero(Numero.obtenerNumero()).getVal()))\n",
    "    \n",
    "        "
   ]
  },
  {
   "cell_type": "markdown",
   "id": "57ec410a",
   "metadata": {},
   "source": [
    "# Iteración\n",
    "\n",
    "\n"
   ]
  },
  {
   "cell_type": "code",
   "execution_count": 2,
   "id": "06cb41e8",
   "metadata": {},
   "outputs": [
    {
     "name": "stdout",
     "output_type": "stream",
     "text": [
      "21*21 = 441\n"
     ]
    }
   ],
   "source": [
    "x = 21\n",
    "ans = 0\n",
    "itersLeft = x\n",
    "while (itersLeft != 0):\n",
    "    ans = ans + x\n",
    "    itersLeft = itersLeft - 1\n",
    "\n",
    "print(str(x) + '*' + str(x) + ' = ' + str(ans))"
   ]
  },
  {
   "cell_type": "markdown",
   "id": "700a7568",
   "metadata": {},
   "source": [
    "## Algunas propiedades de los bucles de iteracion\n",
    "\n",
    "+ necesitan establecer una variable de iteracion fuera del bucle\n",
    "+ se necesita probar esa variable para determinar cuando se termina el bucle\n",
    "+ se necesita cambiar esa variable dentro del bucle"
   ]
  }
 ],
 "metadata": {
  "kernelspec": {
   "display_name": "Python 3 (ipykernel)",
   "language": "python",
   "name": "python3"
  },
  "language_info": {
   "codemirror_mode": {
    "name": "ipython",
    "version": 3
   },
   "file_extension": ".py",
   "mimetype": "text/x-python",
   "name": "python",
   "nbconvert_exporter": "python",
   "pygments_lexer": "ipython3",
   "version": "3.8.10"
  }
 },
 "nbformat": 4,
 "nbformat_minor": 5
}
