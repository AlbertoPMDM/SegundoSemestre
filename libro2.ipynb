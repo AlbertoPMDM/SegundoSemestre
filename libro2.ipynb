{
 "cells": [
  {
   "cell_type": "markdown",
   "id": "1951e9bb",
   "metadata": {},
   "source": [
    "Para cada una de las siguientes expresiones, indique el valor que se imprime al evaluar la expresion. \n",
    "Si la evaluacion conduce a un error, indiquelo\n",
    "\n",
    "Aunque se puede escribir estas expresiones en esta notebook, intenta responder directamente ya que esto te ayuda a reforzar tu comprension de las expresiones basicas de python"
   ]
  },
  {
   "cell_type": "markdown",
   "id": "147caf23",
   "metadata": {},
   "source": [
    "    var = 'Panda'\n",
    "    if var == 'panda':\n",
    "        print('Cute!')\n",
    "    elif var == \"Panda\":\n",
    "    print(\"Regio!\")\n",
    "    else:\n",
    "        print('que feo ...')\n",
    "\n",
    "Conduce a un error porque en la linea 5 no hay nada dentro del bloque del elif"
   ]
  },
  {
   "cell_type": "code",
   "execution_count": 1,
   "id": "671897b2",
   "metadata": {},
   "outputs": [
    {
     "ename": "IndentationError",
     "evalue": "expected an indented block (4124833567.py, line 5)",
     "output_type": "error",
     "traceback": [
      "\u001b[0;36m  Input \u001b[0;32mIn [1]\u001b[0;36m\u001b[0m\n\u001b[0;31m    print(\"Regio!\")\u001b[0m\n\u001b[0m    ^\u001b[0m\n\u001b[0;31mIndentationError\u001b[0m\u001b[0;31m:\u001b[0m expected an indented block\n"
     ]
    }
   ],
   "source": [
    "var = 'Panda'\n",
    "\n",
    "if var == 'panda':\n",
    "    print('Cute!')\n",
    "elif var == \"Panda\":\n",
    "print(\"Regio!\")\n",
    "else:\n",
    "    print('que feo ...')"
   ]
  },
  {
   "cell_type": "markdown",
   "id": "acb9468a",
   "metadata": {},
   "source": [
    "    temp = '5'\n",
    "    if temp > 30:\n",
    "        print('Calor')\n",
    "    elif temp > 24:\n",
    "    print('Agradable')\n",
    "    else:\n",
    "        print('Frio, brrrrr')\n",
    "\n",
    "va a dar un error de indentacion"
   ]
  },
  {
   "cell_type": "code",
   "execution_count": 1,
   "id": "f074f241",
   "metadata": {},
   "outputs": [
    {
     "ename": "IndentationError",
     "evalue": "expected an indented block (1518677062.py, line 5)",
     "output_type": "error",
     "traceback": [
      "\u001b[0;36m  Input \u001b[0;32mIn [1]\u001b[0;36m\u001b[0m\n\u001b[0;31m    print('Agradable')\u001b[0m\n\u001b[0m    ^\u001b[0m\n\u001b[0;31mIndentationError\u001b[0m\u001b[0;31m:\u001b[0m expected an indented block\n"
     ]
    }
   ],
   "source": [
    "temp = '5'\n",
    "if temp > 30:\n",
    "    print('Calor')\n",
    "elif temp > 24:\n",
    "print('Agradable')\n",
    "else:\n",
    "    print('Frio, brrrrr')"
   ]
  },
  {
   "cell_type": "markdown",
   "id": "5794b6e1",
   "metadata": {},
   "source": [
    "    temp = 42\n",
    "    if temp > 30:\n",
    "        print('Calor')\n",
    "    elif temp > 40:\n",
    "        print('muy caliente!')\n",
    "    elif temp > 24:\n",
    "        print('Confortable')\n",
    "    else:\n",
    "        print('frio')\n",
    "\n",
    "va a dar \n",
    "`Calor`"
   ]
  },
  {
   "cell_type": "code",
   "execution_count": 2,
   "id": "bde95f8a",
   "metadata": {},
   "outputs": [
    {
     "name": "stdout",
     "output_type": "stream",
     "text": [
      "Calor\n"
     ]
    }
   ],
   "source": [
    "temp = 42\n",
    "if temp > 30:\n",
    "    print('Calor')\n",
    "elif temp > 40:\n",
    "    print('muy caliente!')\n",
    "elif temp > 24:\n",
    "    print('Confortable')\n",
    "else:\n",
    "    print('frio')"
   ]
  },
  {
   "cell_type": "markdown",
   "id": "1e6d6a22",
   "metadata": {},
   "source": [
    "    temp = 50\n",
    "    if temp > 85:\n",
    "        print('Hot')\n",
    "    elif temp > 100:\n",
    "    print('REALLY HOT!')\n",
    "    elif temp > 60:\n",
    "        print('Comfortable')\n",
    "    else:\n",
    "        print('Cold')\n",
    "\n",
    "Va a dar un error de indentacion"
   ]
  },
  {
   "cell_type": "code",
   "execution_count": 3,
   "id": "75a1b844",
   "metadata": {},
   "outputs": [
    {
     "ename": "IndentationError",
     "evalue": "expected an indented block (3389286953.py, line 5)",
     "output_type": "error",
     "traceback": [
      "\u001b[0;36m  Input \u001b[0;32mIn [3]\u001b[0;36m\u001b[0m\n\u001b[0;31m    print('REALLY HOT!')\u001b[0m\n\u001b[0m    ^\u001b[0m\n\u001b[0;31mIndentationError\u001b[0m\u001b[0;31m:\u001b[0m expected an indented block\n"
     ]
    }
   ],
   "source": [
    "temp = 50\n",
    "if temp > 85:\n",
    "    print('Hot')\n",
    "elif temp > 100:\n",
    "print('REALLY HOT!')\n",
    "elif temp > 60:\n",
    "    print('Comfortable')\n",
    "else:\n",
    "    print('Cold')"
   ]
  },
  {
   "cell_type": "markdown",
   "id": "e1549358",
   "metadata": {},
   "source": [
    "# Ejercicio:\n",
    "\n",
    "Escribe un código en python que imprima la cadena `'hola FCFM'` si el valor de una variable entera es estrictamente mayor que 2."
   ]
  },
  {
   "cell_type": "code",
   "execution_count": 9,
   "id": "b2533be1",
   "metadata": {},
   "outputs": [
    {
     "name": "stdout",
     "output_type": "stream",
     "text": [
      "hola FCFM\n"
     ]
    }
   ],
   "source": [
    "class Numero():\n",
    "\n",
    "    def __init__(self, val:float) -> None:\n",
    "        self.val = val\n",
    "\n",
    "    def getVal(self)->float:\n",
    "        return self.val\n",
    "\n",
    "    def esMayorQueDos(val:float) -> bool:\n",
    "        return val>2\n",
    "\n",
    "    def obtenerNumero()->float:\n",
    "        return float(input('ingresa un numero'))\n",
    "\n",
    "    def decidirSiImprimir(cond:bool)-> None:\n",
    "        if cond:\n",
    "            print('hola FCFM')\n",
    "\n",
    "Numero.decidirSiImprimir(Numero.esMayorQueDos(Numero(Numero.obtenerNumero()).getVal()))\n",
    "    \n",
    "        "
   ]
  },
  {
   "cell_type": "markdown",
   "id": "57ec410a",
   "metadata": {},
   "source": [
    "# Iteración\n",
    "\n",
    "\n"
   ]
  },
  {
   "cell_type": "code",
   "execution_count": 2,
   "id": "06cb41e8",
   "metadata": {},
   "outputs": [
    {
     "name": "stdout",
     "output_type": "stream",
     "text": [
      "21*21 = 441\n"
     ]
    }
   ],
   "source": [
    "x = 21\n",
    "ans = 0\n",
    "itersLeft = x\n",
    "while (itersLeft != 0):\n",
    "    ans = ans + x\n",
    "    itersLeft = itersLeft - 1\n",
    "\n",
    "print(str(x) + '*' + str(x) + ' = ' + str(ans))"
   ]
  },
  {
   "cell_type": "markdown",
   "id": "700a7568",
   "metadata": {},
   "source": [
    "## Algunas propiedades de los bucles de iteracion\n",
    "\n",
    "+ necesitan establecer una variable de iteracion fuera del bucle\n",
    "+ se necesita probar esa variable para determinar cuando se termina el bucle\n",
    "+ se necesita cambiar esa variable dentro del bucle"
   ]
  },
  {
   "cell_type": "markdown",
   "id": "4e369cde",
   "metadata": {},
   "source": [
    "# Actividad\n",
    "\n",
    "escribe que imprimen los siguientes codigos sin ejecutarlos"
   ]
  },
  {
   "cell_type": "code",
   "execution_count": 2,
   "id": "4ec05332",
   "metadata": {},
   "outputs": [
    {
     "name": "stdout",
     "output_type": "stream",
     "text": [
      "5\n",
      "4\n"
     ]
    }
   ],
   "source": [
    "'''\n",
    "el programa imprime:\n",
    "\n",
    "5\n",
    "4\n",
    "'''\n",
    "num = 5\n",
    "if (num > 2) :\n",
    "    print(num)\n",
    "    num-=1\n",
    "\n",
    "print(num)"
   ]
  },
  {
   "cell_type": "code",
   "execution_count": 7,
   "id": "4521c8aa",
   "metadata": {},
   "outputs": [
    {
     "name": "stdout",
     "output_type": "stream",
     "text": [
      "0\n",
      "1\n",
      "2\n",
      "3\n",
      "4\n",
      "5\n",
      "fuera del ciclo\n",
      "6\n"
     ]
    }
   ],
   "source": [
    "'''\n",
    "El programa va a imprimir\n",
    "\n",
    "0\n",
    "1\n",
    "2\n",
    "3\n",
    "4\n",
    "5\n",
    "\n",
    "fuera del ciclo\n",
    "6\n",
    "'''\n",
    "num = 0\n",
    "while (num <= 5):\n",
    "    print(num)\n",
    "    num += 1\n",
    "\n",
    "print('fuera del ciclo')\n",
    "print(num)"
   ]
  },
  {
   "cell_type": "code",
   "execution_count": 4,
   "id": "accfdf1f",
   "metadata": {},
   "outputs": [
    {
     "ename": "KeyboardInterrupt",
     "evalue": "",
     "output_type": "error",
     "traceback": [
      "\u001b[0;31m---------------------------------------------------------------------------\u001b[0m",
      "\u001b[0;31mKeyboardInterrupt\u001b[0m                         Traceback (most recent call last)",
      "\u001b[1;32m/home/milk/Documents/Programs/Fortran/libro2.ipynb Cell 18'\u001b[0m in \u001b[0;36m<cell line: 6>\u001b[0;34m()\u001b[0m\n\u001b[1;32m      <a href='vscode-notebook-cell:/home/milk/Documents/Programs/Fortran/libro2.ipynb#ch0000017?line=4'>5</a>\u001b[0m num_manzana \u001b[39m=\u001b[39m \u001b[39m2\u001b[39m\n\u001b[1;32m      <a href='vscode-notebook-cell:/home/milk/Documents/Programs/Fortran/libro2.ipynb#ch0000017?line=5'>6</a>\u001b[0m \u001b[39mwhile\u001b[39;00m num_ciclos \u001b[39m<\u001b[39m \u001b[39m10\u001b[39m:\n\u001b[0;32m----> <a href='vscode-notebook-cell:/home/milk/Documents/Programs/Fortran/libro2.ipynb#ch0000017?line=6'>7</a>\u001b[0m     num_manzana \u001b[39m*\u001b[39m\u001b[39m=\u001b[39m \u001b[39m2\u001b[39m\n\u001b[1;32m      <a href='vscode-notebook-cell:/home/milk/Documents/Programs/Fortran/libro2.ipynb#ch0000017?line=7'>8</a>\u001b[0m     num_manzana \u001b[39m+\u001b[39m\u001b[39m=\u001b[39m num_ciclos\n\u001b[1;32m      <a href='vscode-notebook-cell:/home/milk/Documents/Programs/Fortran/libro2.ipynb#ch0000017?line=8'>9</a>\u001b[0m     num_ciclos \u001b[39m-\u001b[39m\u001b[39m=\u001b[39m \u001b[39m1\u001b[39m\n",
      "\u001b[0;31mKeyboardInterrupt\u001b[0m: "
     ]
    }
   ],
   "source": [
    "'''\n",
    "el programa va a dar un error porque el loop no se acaba,\n",
    "creo que eran de memoria\n",
    "\n",
    "'''\n",
    "num_ciclos = 0\n",
    "num_manzana = 2\n",
    "while num_ciclos < 10:\n",
    "    num_manzana *= 2\n",
    "    num_manzana += num_ciclos\n",
    "    num_ciclos -= 1\n",
    "\n",
    "print('num de manzanas: ' + str(num_manzana))"
   ]
  },
  {
   "cell_type": "code",
   "execution_count": 5,
   "id": "a6998b51",
   "metadata": {},
   "outputs": [
    {
     "name": "stdout",
     "output_type": "stream",
     "text": [
      "9\n",
      "8\n",
      "7\n",
      "6\n",
      "5\n",
      "4\n",
      "3\n"
     ]
    }
   ],
   "source": [
    "'''\n",
    "el programa va a imprimir\n",
    "\n",
    "9\n",
    "8\n",
    "7\n",
    "6\n",
    "5\n",
    "4\n",
    "3\n",
    "'''\n",
    "num = 10\n",
    "while num>3:\n",
    "    num -= 1\n",
    "    print(num)"
   ]
  },
  {
   "cell_type": "code",
   "execution_count": 6,
   "id": "9aa2ce48",
   "metadata": {},
   "outputs": [
    {
     "name": "stdout",
     "output_type": "stream",
     "text": [
      "10\n",
      "9\n",
      "8\n",
      "7\n",
      "rompe el ciclo\n",
      "fuera\n"
     ]
    }
   ],
   "source": [
    "'''\n",
    "El programa va a imprimir\n",
    "\n",
    "10\n",
    "9\n",
    "8\n",
    "7\n",
    "rompe el ciclo\n",
    "fuera\n",
    "'''\n",
    "num = 10\n",
    "while True:\n",
    "    if num<7:\n",
    "        print('rompe el ciclo')\n",
    "        break\n",
    "\n",
    "    print(num)\n",
    "\n",
    "    num -= 1\n",
    "\n",
    "print('fuera')"
   ]
  },
  {
   "cell_type": "code",
   "execution_count": null,
   "id": "b2f2dc5d",
   "metadata": {},
   "outputs": [],
   "source": [
    "'''\n",
    "ni lo voy a correr porque al parecer python te deja hacer loops infinitos si no son\n",
    "recursivos\n",
    "'''\n",
    "num = 100\n",
    "while (not False):\n",
    "    if (num < 0):\n",
    "        print('rompe')\n",
    "        break\n",
    "print('num es: ' + str(num))"
   ]
  }
 ],
 "metadata": {
  "kernelspec": {
   "display_name": "Python 3 (ipykernel)",
   "language": "python",
   "name": "python3"
  },
  "language_info": {
   "codemirror_mode": {
    "name": "ipython",
    "version": 3
   },
   "file_extension": ".py",
   "mimetype": "text/x-python",
   "name": "python",
   "nbconvert_exporter": "python",
   "pygments_lexer": "ipython3",
   "version": "3.8.10"
  }
 },
 "nbformat": 4,
 "nbformat_minor": 5
}
