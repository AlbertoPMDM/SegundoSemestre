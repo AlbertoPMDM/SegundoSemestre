{
 "cells": [
  {
   "cell_type": "markdown",
   "id": "bab6c574",
   "metadata": {},
   "source": [
    "# Examen 1\n",
    "\n",
    "#### Alberto Paulo Méndez-Dettmer Muñoz, a 25 de Marzo de 2022\n",
    "\n",
    "#### Lenguajes de Programación, Dr. Maria Concepción Salas Solís\n",
    "\n",
    "## Ideal gas law\n",
    "\n",
    "### Setup\n",
    "\n",
    "$$\n",
    "\\begin{equation*}\n",
    "PV = nRT\n",
    "\\end{equation*}\n",
    "$$\n",
    "\n",
    "Where $P$ is the pressure of the gas in $kPa$, $V$ is the volume in $L$, $n$ is the ammount of molecules in moles, and $R$ the universal gas constant, $8.314 \\tfrac{L \\cdot kPa}{mol \\cdot K}$, and $T$ is the absolute temperature, in $K$\n",
    "\n",
    "Assuming $n=1$ and $T=273$ do the following:\n",
    "\n",
    "+ Write a program to print out and calculate the volume of a gas as the pressure varies from $1$ to $1001 kPa$ in steps of $100kPa$\n",
    "\n",
    "+ Calculate the same as in the first point, but with a temperature of $300K$\n",
    "\n",
    "### Steps for first point\n",
    "\n",
    "+ We start with solving the equation given for $V(P)$\n",
    "\n",
    "> $$\n",
    "\\begin{align*}\n",
    "PV & = nRT \\\\\n",
    "V &= \\frac{nRT}{P}\\\\\n",
    "V\\left(P\\right) &= \\frac{\\left(1 mol\\right)\\left(8.314\\tfrac{L \\cdot kPa}{mol \\cdot K}\\right)\\left(273 K\\right)}{P}\n",
    "\\end{align*}\n",
    "$$\n",
    "\n",
    "make the program that iters through the function, prints every iteration, and graphs all the points\n"
   ]
  },
  {
   "cell_type": "code",
   "execution_count": 31,
   "id": "90159a2c",
   "metadata": {
    "scrolled": false
   },
   "outputs": [
    {
     "name": "stdout",
     "output_type": "stream",
     "text": [
      "V(P) for T=273\n",
      "V(1) = 2269.722L\n",
      "V(101) = 22.472495049504953L\n",
      "V(201) = 11.292149253731344L\n",
      "V(301) = 7.540604651162791L\n",
      "V(401) = 5.660154613466335L\n",
      "V(501) = 4.530383233532935L\n",
      "V(601) = 3.7765757071547426L\n",
      "V(701) = 3.23783452211127L\n",
      "V(801) = 2.833610486891386L\n",
      "V(901) = 2.5191143174250836L\n",
      "V(1001) = 2.267454545454546L\n"
     ]
    },
    {
     "data": {
      "image/png": "[encoded data removed]",
      "text/plain": [
       "<Figure size 432x288 with 1 Axes>"
      ]
     },
     "metadata": {
      "needs_background": "light"
     },
     "output_type": "display_data"
    }
   ],
   "source": [
    "import numpy as np\n",
    "import matplotlib.pyplot as plt\n",
    "\n",
    "# defining the function solved above\n",
    "def V(P:float) -> float:\n",
    "    return ((8.314)*(273))/P\n",
    "\n",
    "# Setting up the array and limits\n",
    "P_ARRAY = []\n",
    "V_ARRAY = []\n",
    "LOWER_LIMIT = 1\n",
    "DELTA = 100\n",
    "UPPER_LIMIT = 1001 + DELTA\n",
    "\n",
    "# Printing the requested points, and adding them to an array for graphing later\n",
    "print('V(P) for T=273')\n",
    "for P in np.arange(LOWER_LIMIT,UPPER_LIMIT,DELTA):\n",
    "    P_ARRAY.append(P)\n",
    "    V_ARRAY.append(V(P))\n",
    "    print('V({}) = {}L'.format(P_ARRAY[-1], V_ARRAY[-1]))\n",
    "\n",
    "# graphing from the arrays filled before\n",
    "fig = plt.figure()\n",
    "ax = fig.add_subplot(111)\n",
    "ax.set_title('V(P) for T=273')\n",
    "ax.plot(P_ARRAY, V_ARRAY, linewidth = '3', marker='o', label='V(P)')\n",
    "ax.set_xlabel('pressure')\n",
    "ax.set_ylabel('volume')\n",
    "plt.legend()\n",
    "plt.show()"
   ]
  },
  {
   "cell_type": "markdown",
   "id": "32e74ced",
   "metadata": {},
   "source": [
    "### Steps for second point\n",
    "\n",
    "We already have the equation solved for V(P), so we just change the temperature to $T=300$ and repeat the same code\n",
    "\n",
    "> $$\n",
    "\\begin{align*}\n",
    "PV & = nRT \\\\\n",
    "V &= \\frac{nRT}{P}\\\\\n",
    "V\\left(P\\right) &= \\frac{\\left(1 mol\\right)\\left(8.314\\tfrac{L \\cdot kPa}{mol \\cdot K}\\right)\\left(300 K\\right)}{P}\n",
    "\\end{align*}\n",
    "$$"
   ]
  },
  {
   "cell_type": "code",
   "execution_count": 33,
   "id": "e37fd87f",
   "metadata": {},
   "outputs": [
    {
     "name": "stdout",
     "output_type": "stream",
     "text": [
      "V(P) for T=300\n",
      "V(1) = 2494.2L\n",
      "V(101) = 24.695049504950493L\n",
      "V(201) = 12.408955223880596L\n",
      "V(301) = 8.286378737541527L\n",
      "V(401) = 6.219950124688279L\n",
      "V(501) = 4.978443113772455L\n",
      "V(601) = 4.15008319467554L\n",
      "V(701) = 3.5580599144079885L\n",
      "V(801) = 3.1138576779026215L\n",
      "V(901) = 2.7682574916759153L\n",
      "V(1001) = 2.4917082917082913L\n"
     ]
    },
    {
     "data": {
      "image/png": "[encoded data removed]",
      "text/plain": [
       "<Figure size 432x288 with 1 Axes>"
      ]
     },
     "metadata": {
      "needs_background": "light"
     },
     "output_type": "display_data"
    }
   ],
   "source": [
    "# Redefining the function for the new temperature\n",
    "def V(P:float) -> float:\n",
    "    return ((8.314)*(300))/P\n",
    "\n",
    "# Technically the same limits are conserved, but reassigned them for readability, and reset\n",
    "# the arrays before the second loop\n",
    "P_ARRAY = []\n",
    "V_ARRAY = []\n",
    "LOWER_LIMIT = 1\n",
    "DELTA = 100\n",
    "UPPER_LIMIT = 1001 + DELTA\n",
    "\n",
    "# Printing the requested points, and adding them to an array for graphing later\n",
    "print('V(P) for T=300')\n",
    "for P in np.arange(LOWER_LIMIT,UPPER_LIMIT,DELTA):\n",
    "    P_ARRAY.append(P)\n",
    "    V_ARRAY.append(V(P))\n",
    "    print('V({}) = {}L'.format(P_ARRAY[-1], V_ARRAY[-1]))\n",
    "\n",
    "# graphing from the arrays filled before\n",
    "fig = plt.figure()\n",
    "ax = fig.add_subplot(111)\n",
    "ax.set_title('V(P) for T=300')\n",
    "ax.plot(P_ARRAY, V_ARRAY, color = 'r',linewidth = '3', marker='o', label='V(P)')\n",
    "ax.set_xlabel('pressure')\n",
    "ax.set_ylabel('volume')\n",
    "plt.legend()\n",
    "plt.show()"
   ]
  }
 ],
 "metadata": {
  "kernelspec": {
   "display_name": "Python 3",
   "language": "python",
   "name": "python3"
  },
  "language_info": {
   "codemirror_mode": {
    "name": "ipython",
    "version": 3
   },
   "file_extension": ".py",
   "mimetype": "text/x-python",
   "name": "python",
   "nbconvert_exporter": "python",
   "pygments_lexer": "ipython3",
   "version": "3.8.8"
  }
 },
 "nbformat": 4,
 "nbformat_minor": 5
}
