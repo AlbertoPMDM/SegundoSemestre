{
 "cells": [
  {
   "cell_type": "markdown",
   "id": "700a7568",
   "metadata": {},
   "source": [
    "## Algunas propiedades de los bucles de iteracion\n",
    "\n",
    "+ necesitan establecer una variable de iteracion fuera del bucle\n",
    "+ se necesita probar esa variable para determinar cuando se termina el bucle\n",
    "+ se necesita cambiar esa variable dentro del bucle"
   ]
  },
  {
   "cell_type": "markdown",
   "id": "4e369cde",
   "metadata": {},
   "source": [
    "# Actividad\n",
    "\n",
    "escribe que imprimen los siguientes codigos sin ejecutarlos"
   ]
  },
  {
   "cell_type": "code",
   "execution_count": 2,
   "id": "4ec05332",
   "metadata": {},
   "outputs": [
    {
     "name": "stdout",
     "output_type": "stream",
     "text": [
      "5\n",
      "4\n"
     ]
    }
   ],
   "source": [
    "'''\n",
    "el programa imprime:\n",
    "\n",
    "5\n",
    "4\n",
    "'''\n",
    "num = 5\n",
    "if (num > 2) :\n",
    "    print(num)\n",
    "    num-=1\n",
    "\n",
    "print(num)"
   ]
  },
  {
   "cell_type": "code",
   "execution_count": 7,
   "id": "4521c8aa",
   "metadata": {},
   "outputs": [
    {
     "name": "stdout",
     "output_type": "stream",
     "text": [
      "0\n",
      "1\n",
      "2\n",
      "3\n",
      "4\n",
      "5\n",
      "fuera del ciclo\n",
      "6\n"
     ]
    }
   ],
   "source": [
    "'''\n",
    "El programa va a imprimir\n",
    "\n",
    "0\n",
    "1\n",
    "2\n",
    "3\n",
    "4\n",
    "5\n",
    "\n",
    "fuera del ciclo\n",
    "6\n",
    "'''\n",
    "num = 0\n",
    "while (num <= 5):\n",
    "    print(num)\n",
    "    num += 1\n",
    "\n",
    "print('fuera del ciclo')\n",
    "print(num)"
   ]
  },
  {
   "cell_type": "code",
   "execution_count": 4,
   "id": "accfdf1f",
   "metadata": {},
   "outputs": [
    {
     "ename": "KeyboardInterrupt",
     "evalue": "",
     "output_type": "error",
     "traceback": [
      "\u001b[0;31m---------------------------------------------------------------------------\u001b[0m",
      "\u001b[0;31mKeyboardInterrupt\u001b[0m                         Traceback (most recent call last)",
      "\u001b[1;32m/home/milk/Documents/Programs/Fortran/libro2.ipynb Cell 18'\u001b[0m in \u001b[0;36m<cell line: 6>\u001b[0;34m()\u001b[0m\n\u001b[1;32m      <a href='vscode-notebook-cell:/home/milk/Documents/Programs/Fortran/libro2.ipynb#ch0000017?line=4'>5</a>\u001b[0m num_manzana \u001b[39m=\u001b[39m \u001b[39m2\u001b[39m\n\u001b[1;32m      <a href='vscode-notebook-cell:/home/milk/Documents/Programs/Fortran/libro2.ipynb#ch0000017?line=5'>6</a>\u001b[0m \u001b[39mwhile\u001b[39;00m num_ciclos \u001b[39m<\u001b[39m \u001b[39m10\u001b[39m:\n\u001b[0;32m----> <a href='vscode-notebook-cell:/home/milk/Documents/Programs/Fortran/libro2.ipynb#ch0000017?line=6'>7</a>\u001b[0m     num_manzana \u001b[39m*\u001b[39m\u001b[39m=\u001b[39m \u001b[39m2\u001b[39m\n\u001b[1;32m      <a href='vscode-notebook-cell:/home/milk/Documents/Programs/Fortran/libro2.ipynb#ch0000017?line=7'>8</a>\u001b[0m     num_manzana \u001b[39m+\u001b[39m\u001b[39m=\u001b[39m num_ciclos\n\u001b[1;32m      <a href='vscode-notebook-cell:/home/milk/Documents/Programs/Fortran/libro2.ipynb#ch0000017?line=8'>9</a>\u001b[0m     num_ciclos \u001b[39m-\u001b[39m\u001b[39m=\u001b[39m \u001b[39m1\u001b[39m\n",
      "\u001b[0;31mKeyboardInterrupt\u001b[0m: "
     ]
    }
   ],
   "source": [
    "'''\n",
    "el programa va a dar un error porque el loop no se acaba,\n",
    "creo que eran de memoria\n",
    "\n",
    "'''\n",
    "num_ciclos = 0\n",
    "num_manzana = 2\n",
    "while num_ciclos < 10:\n",
    "    num_manzana *= 2\n",
    "    num_manzana += num_ciclos\n",
    "    num_ciclos -= 1\n",
    "\n",
    "print('num de manzanas: ' + str(num_manzana))"
   ]
  },
  {
   "cell_type": "code",
   "execution_count": 5,
   "id": "a6998b51",
   "metadata": {},
   "outputs": [
    {
     "name": "stdout",
     "output_type": "stream",
     "text": [
      "9\n",
      "8\n",
      "7\n",
      "6\n",
      "5\n",
      "4\n",
      "3\n"
     ]
    }
   ],
   "source": [
    "'''\n",
    "el programa va a imprimir\n",
    "\n",
    "9\n",
    "8\n",
    "7\n",
    "6\n",
    "5\n",
    "4\n",
    "3\n",
    "'''\n",
    "num = 10\n",
    "while num>3:\n",
    "    num -= 1\n",
    "    print(num)"
   ]
  },
  {
   "cell_type": "code",
   "execution_count": 6,
   "id": "9aa2ce48",
   "metadata": {},
   "outputs": [
    {
     "name": "stdout",
     "output_type": "stream",
     "text": [
      "10\n",
      "9\n",
      "8\n",
      "7\n",
      "rompe el ciclo\n",
      "fuera\n"
     ]
    }
   ],
   "source": [
    "'''\n",
    "El programa va a imprimir\n",
    "\n",
    "10\n",
    "9\n",
    "8\n",
    "7\n",
    "rompe el ciclo\n",
    "fuera\n",
    "'''\n",
    "num = 10\n",
    "while True:\n",
    "    if num<7:\n",
    "        print('rompe el ciclo')\n",
    "        break\n",
    "\n",
    "    print(num)\n",
    "\n",
    "    num -= 1\n",
    "\n",
    "print('fuera')"
   ]
  },
  {
   "cell_type": "code",
   "execution_count": null,
   "id": "b2f2dc5d",
   "metadata": {},
   "outputs": [],
   "source": [
    "'''\n",
    "ni lo voy a correr porque al parecer python te deja hacer loops infinitos si no son\n",
    "recursivos\n",
    "'''\n",
    "num = 100\n",
    "while (not False):\n",
    "    if (num < 0):\n",
    "        print('rompe')\n",
    "        break\n",
    "print('num es: ' + str(num))"
   ]
  },
  {
   "cell_type": "markdown",
   "id": "9d4195fb",
   "metadata": {},
   "source": [
    "# Tuplas\n",
    "\n",
    "secuencia ordenada de elementos (similar a cadenas)"
   ]
  },
  {
   "cell_type": "code",
   "execution_count": 2,
   "id": "80ba7b1e",
   "metadata": {},
   "outputs": [
    {
     "name": "stdout",
     "output_type": "stream",
     "text": [
      "(1, 'dos', 3)\n"
     ]
    }
   ],
   "source": [
    "t = (1,'dos',3)\n",
    "print(t)"
   ]
  },
  {
   "cell_type": "markdown",
   "id": "a8e865f3",
   "metadata": {},
   "source": [
    "Los elementos de una tupla pueden ser mas que solo caracteres"
   ]
  },
  {
   "cell_type": "code",
   "execution_count": 3,
   "id": "efe65688",
   "metadata": {},
   "outputs": [
    {
     "name": "stdout",
     "output_type": "stream",
     "text": [
      "((1, 'dos', 3), 'cuatro')\n"
     ]
    }
   ],
   "source": [
    "t2 = (t, 'cuatro')\n",
    "\n",
    "print(t2)"
   ]
  },
  {
   "cell_type": "markdown",
   "id": "4c7ca293",
   "metadata": {},
   "source": [
    "# Operaciones en tuplas"
   ]
  },
  {
   "cell_type": "markdown",
   "id": "c9220b15",
   "metadata": {},
   "source": [
    "## concatenacion\n",
    "\n",
    "usar el signo `+` con las tuplas"
   ]
  },
  {
   "cell_type": "code",
   "execution_count": 4,
   "id": "ea54c349",
   "metadata": {},
   "outputs": [
    {
     "data": {
      "text/plain": [
       "(1, 'dos', 3, (1, 'dos', 3), 'cuatro')"
      ]
     },
     "execution_count": 4,
     "metadata": {},
     "output_type": "execute_result"
    }
   ],
   "source": [
    "t + t2"
   ]
  },
  {
   "cell_type": "markdown",
   "id": "56bb65fa",
   "metadata": {},
   "source": [
    "## Indexar\n",
    "\n",
    "entre corchetes `[]` poner el numero del elemento"
   ]
  },
  {
   "cell_type": "code",
   "execution_count": 5,
   "id": "19ed014d",
   "metadata": {},
   "outputs": [
    {
     "data": {
      "text/plain": [
       "(1, 'dos', 3)"
      ]
     },
     "execution_count": 5,
     "metadata": {},
     "output_type": "execute_result"
    }
   ],
   "source": [
    "(t+t2)[3]"
   ]
  },
  {
   "cell_type": "markdown",
   "id": "9cdea638",
   "metadata": {},
   "source": [
    "# Cortar\n",
    "\n",
    "elegir un rango de elementos con `[n:m]` contando m y sin contar n"
   ]
  },
  {
   "cell_type": "code",
   "execution_count": 6,
   "id": "f897fb4a",
   "metadata": {},
   "outputs": [
    {
     "data": {
      "text/plain": [
       "(3, (1, 'dos', 3), 'cuatro')"
      ]
     },
     "execution_count": 6,
     "metadata": {},
     "output_type": "execute_result"
    }
   ],
   "source": [
    "(t+t2)[2:5]"
   ]
  },
  {
   "cell_type": "markdown",
   "id": "39fc3a58",
   "metadata": {},
   "source": [
    "# singletes en tuplas\n",
    "\n",
    "cuando una tupla tiene un solo elemento, despues del elemento debe de ir una coma"
   ]
  },
  {
   "cell_type": "code",
   "execution_count": 11,
   "id": "70802b9b",
   "metadata": {},
   "outputs": [
    {
     "name": "stdout",
     "output_type": "stream",
     "text": [
      "('cinco',)\n",
      "<class 'int'>\n",
      "<class 'tuple'>\n"
     ]
    }
   ],
   "source": [
    "t3 = 'cinco',\n",
    "\n",
    "print(t3)\n",
    "\n",
    "tup3 = (5)\n",
    "\n",
    "print(type(tup3))\n",
    "\n",
    "tup4 = (5,)\n",
    "\n",
    "print(type(tup4))"
   ]
  },
  {
   "cell_type": "markdown",
   "id": "9c3af89b",
   "metadata": {},
   "source": [
    "Para cada una de las siguientes expresiones especifique tipo y valor, o error\n"
   ]
  },
  {
   "cell_type": "code",
   "execution_count": 13,
   "id": "b166a335",
   "metadata": {},
   "outputs": [],
   "source": [
    "x = (1,2,(3,'Juan', 4), 'Hola')"
   ]
  },
  {
   "cell_type": "code",
   "execution_count": 14,
   "id": "2dd8c803",
   "metadata": {},
   "outputs": [
    {
     "data": {
      "text/plain": [
       "1"
      ]
     },
     "execution_count": 14,
     "metadata": {},
     "output_type": "execute_result"
    }
   ],
   "source": [
    "x[0] # da 1, int"
   ]
  },
  {
   "cell_type": "code",
   "execution_count": 15,
   "id": "af3fa305",
   "metadata": {},
   "outputs": [
    {
     "data": {
      "text/plain": [
       "2"
      ]
     },
     "execution_count": 15,
     "metadata": {},
     "output_type": "execute_result"
    }
   ],
   "source": [
    "x[1] # da 2, int"
   ]
  },
  {
   "cell_type": "code",
   "execution_count": 16,
   "id": "5d78ea54",
   "metadata": {},
   "outputs": [
    {
     "data": {
      "text/plain": [
       "'Hola'"
      ]
     },
     "execution_count": 16,
     "metadata": {},
     "output_type": "execute_result"
    }
   ],
   "source": [
    "x[-1] # da 'hola', str"
   ]
  },
  {
   "cell_type": "code",
   "execution_count": 17,
   "id": "2d139a7d",
   "metadata": {},
   "outputs": [
    {
     "data": {
      "text/plain": [
       "4"
      ]
     },
     "execution_count": 17,
     "metadata": {},
     "output_type": "execute_result"
    }
   ],
   "source": [
    "x[2][2] # da (3,'Juan',4), tuple"
   ]
  },
  {
   "cell_type": "code",
   "execution_count": 18,
   "id": "b8156dd9",
   "metadata": {},
   "outputs": [
    {
     "data": {
      "text/plain": [
       "4"
      ]
     },
     "execution_count": 18,
     "metadata": {},
     "output_type": "execute_result"
    }
   ],
   "source": [
    "x[2][-1] # da 4, int"
   ]
  },
  {
   "cell_type": "code",
   "execution_count": 19,
   "id": "d0280df3",
   "metadata": {},
   "outputs": [
    {
     "data": {
      "text/plain": [
       "'a'"
      ]
     },
     "execution_count": 19,
     "metadata": {},
     "output_type": "execute_result"
    }
   ],
   "source": [
    "x[-1][-1] # da 'a', str"
   ]
  },
  {
   "cell_type": "code",
   "execution_count": 20,
   "id": "02d47ede",
   "metadata": {},
   "outputs": [
    {
     "data": {
      "text/plain": [
       "'l'"
      ]
     },
     "execution_count": 20,
     "metadata": {},
     "output_type": "execute_result"
    }
   ],
   "source": [
    "x[-1][2] # da 'l', str"
   ]
  },
  {
   "cell_type": "code",
   "execution_count": 21,
   "id": "66e19a68",
   "metadata": {},
   "outputs": [
    {
     "data": {
      "text/plain": [
       "(1,)"
      ]
     },
     "execution_count": 21,
     "metadata": {},
     "output_type": "execute_result"
    }
   ],
   "source": [
    "x[0:1] # da (1,), tuple"
   ]
  },
  {
   "cell_type": "code",
   "execution_count": 22,
   "id": "ee486ebc",
   "metadata": {},
   "outputs": [
    {
     "data": {
      "text/plain": [
       "(1, 2, (3, 'Juan', 4))"
      ]
     },
     "execution_count": 22,
     "metadata": {},
     "output_type": "execute_result"
    }
   ],
   "source": [
    "x[0:-1]# da (1, 'hola', (3, 'juan', 4), 2), tuple"
   ]
  },
  {
   "cell_type": "code",
   "execution_count": 23,
   "id": "929cb560",
   "metadata": {},
   "outputs": [
    {
     "data": {
      "text/plain": [
       "4"
      ]
     },
     "execution_count": 23,
     "metadata": {},
     "output_type": "execute_result"
    }
   ],
   "source": [
    "len(x) # da 4, int"
   ]
  },
  {
   "cell_type": "code",
   "execution_count": 24,
   "id": "63198c1f",
   "metadata": {},
   "outputs": [
    {
     "data": {
      "text/plain": [
       "True"
      ]
     },
     "execution_count": 24,
     "metadata": {},
     "output_type": "execute_result"
    }
   ],
   "source": [
    "2 in x # da True, bool"
   ]
  },
  {
   "cell_type": "code",
   "execution_count": 25,
   "id": "cc3713b5",
   "metadata": {},
   "outputs": [
    {
     "data": {
      "text/plain": [
       "False"
      ]
     },
     "execution_count": 25,
     "metadata": {},
     "output_type": "execute_result"
    }
   ],
   "source": [
    "3 in x # da False, bool"
   ]
  },
  {
   "cell_type": "code",
   "execution_count": 26,
   "id": "605b2ed5",
   "metadata": {},
   "outputs": [
    {
     "ename": "TypeError",
     "evalue": "'tuple' object does not support item assignment",
     "output_type": "error",
     "traceback": [
      "\u001b[0;31m---------------------------------------------------------------------------\u001b[0m",
      "\u001b[0;31mTypeError\u001b[0m                                 Traceback (most recent call last)",
      "\u001b[1;32m/home/milk/Documents/Programs/Fortran/libro2.ipynb Cell 49'\u001b[0m in \u001b[0;36m<cell line: 1>\u001b[0;34m()\u001b[0m\n\u001b[0;32m----> <a href='vscode-notebook-cell:/home/milk/Documents/Programs/Fortran/libro2.ipynb#ch0000049?line=0'>1</a>\u001b[0m x[\u001b[39m0\u001b[39m] \u001b[39m=\u001b[39m \u001b[39m8\u001b[39m\n",
      "\u001b[0;31mTypeError\u001b[0m: 'tuple' object does not support item assignment"
     ]
    }
   ],
   "source": [
    "x[0] = 8 # da un error, los tuples no son mutables"
   ]
  },
  {
   "cell_type": "markdown",
   "id": "92473547",
   "metadata": {},
   "source": [
    "# Listas\n",
    "\n",
    "aunque las listas se parecen mucho a las tuplas, y tambien son una secuencia ordenada de valores, la gran diferencia es que las listas son mutables\n",
    "\n",
    "se utilizan corchetes `[]` en vez de parentesis, y un singlete no necesita la coma"
   ]
  },
  {
   "cell_type": "code",
   "execution_count": 27,
   "id": "fb59833f",
   "metadata": {},
   "outputs": [],
   "source": [
    "Techs = ['MIT', 'Cal Tech']\n",
    "\n",
    "Ivys = ['Harvard', 'Yale', 'Brown']"
   ]
  },
  {
   "cell_type": "code",
   "execution_count": 28,
   "id": "4aa635e2",
   "metadata": {},
   "outputs": [
    {
     "data": {
      "text/plain": [
       "'Brown'"
      ]
     },
     "execution_count": 28,
     "metadata": {},
     "output_type": "execute_result"
    }
   ],
   "source": [
    "Ivys[2]"
   ]
  },
  {
   "cell_type": "code",
   "execution_count": 29,
   "id": "a2450a34",
   "metadata": {},
   "outputs": [],
   "source": [
    "Univs = [Techs, Ivys]"
   ]
  },
  {
   "cell_type": "code",
   "execution_count": 30,
   "id": "aa0b20d8",
   "metadata": {},
   "outputs": [],
   "source": [
    "Univs1 = [['MIT', 'Cal Tech'], ['Harvard', 'Yale','Brown']]"
   ]
  },
  {
   "cell_type": "code",
   "execution_count": 32,
   "id": "7441ebe6",
   "metadata": {
    "scrolled": true
   },
   "outputs": [
    {
     "name": "stdout",
     "output_type": "stream",
     "text": [
      "[['MIT', 'Cal Tech'], ['Harvard', 'Yale', 'Brown']]\n",
      "[['MIT', 'Cal Tech'], ['Harvard', 'Yale', 'Brown']]\n"
     ]
    }
   ],
   "source": [
    "print(Univs)\n",
    "print(Univs1)"
   ]
  },
  {
   "cell_type": "code",
   "execution_count": null,
   "id": "2f76fed7",
   "metadata": {},
   "outputs": [],
   "source": []
  }
 ],
 "metadata": {
  "kernelspec": {
   "display_name": "Python 3",
   "language": "python",
   "name": "python3"
  },
  "language_info": {
   "codemirror_mode": {
    "name": "ipython",
    "version": 3
   },
   "file_extension": ".py",
   "mimetype": "text/x-python",
   "name": "python",
   "nbconvert_exporter": "python",
   "pygments_lexer": "ipython3",
   "version": "3.8.8"
  }
 },
 "nbformat": 4,
 "nbformat_minor": 5
}
